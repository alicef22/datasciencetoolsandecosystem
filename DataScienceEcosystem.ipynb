{
  "metadata": {
    "kernelspec": {
      "name": "python",
      "display_name": "Python (Pyodide)",
      "language": "python"
    },
    "language_info": {
      "codemirror_mode": {
        "name": "python",
        "version": 3
      },
      "file_extension": ".py",
      "mimetype": "text/x-python",
      "name": "python",
      "nbconvert_exporter": "python",
      "pygments_lexer": "ipython3",
      "version": "3.8"
    }
  },
  "nbformat_minor": 4,
  "nbformat": 4,
  "cells": [
    {
      "cell_type": "markdown",
      "source": "Data Science Tools and Ecosystem",
      "metadata": {}
    },
    {
      "cell_type": "markdown",
      "source": "This notebook summarises Data Science Tools and Ecosystem.",
      "metadata": {}
    },
    {
      "cell_type": "markdown",
      "source": "Objectives:\r\n\r\n- List popular languages for Data Science.\r\n- Introduce commonly used libraries in Data Science.\r\n- Perform basic arithmetic operations in Python.\r\n- Convert units of measurement using Python expressions.\r\n",
      "metadata": {}
    },
    {
      "cell_type": "markdown",
      "source": "Some of the popular data science languages employed by data scientists include:",
      "metadata": {}
    },
    {
      "cell_type": "markdown",
      "source": "1. Python\n2. R\n3. SQL",
      "metadata": {}
    },
    {
      "cell_type": "markdown",
      "source": "Data scientists commonly use the following libraries:",
      "metadata": {}
    },
    {
      "cell_type": "markdown",
      "source": "1. NumPy: a fundamental package for scientific computing with Python. It provides support for large, multi-dimensional arrays and matrices, along with a collection of mathematical functions to operate on these arrays efficiently. NumPy is essential for numerical computations in data science, including tasks such as linear algebra, statistics, and Fourier analysis.\n2. Pandas: a powerful library for data manipulation and analysis in Python. It offers data structures and functions for quickly and efficiently handling structured data, such as tabular data and time series. Pandas allows users to perform tasks like data cleaning, exploration, transformation, and visualization, making it a fundamental tool in the data science toolkit.\n3. Matplotlib: a comprehensive library for creating static, animated, and interactive visualizations in Python. It provides a MATLAB-like interface for generating plots and charts, allowing users to create a wide range of visualizations, including line plots, scatter plots, histograms, bar charts, and more. Matplotlib is widely used in data science for data exploration, analysis, and presentation, enabling researchers and analysts to communicate their findings effectively.",
      "metadata": {}
    },
    {
      "cell_type": "markdown",
      "source": "| Data Science Tools |\r\n|--------------------|\r\n| Jupyter Notebook   |\r\n| RStudio            |\r\n| Visual Studio Code |\r\n",
      "metadata": {}
    },
    {
      "cell_type": "markdown",
      "source": "### Here are some examples of evaluating arithmetic expressions in Python.\r\n",
      "metadata": {}
    },
    {
      "cell_type": "code",
      "source": "(3*4)+5\n",
      "metadata": {
        "trusted": true
      },
      "outputs": [
        {
          "execution_count": 7,
          "output_type": "execute_result",
          "data": {
            "text/plain": "17"
          },
          "metadata": {}
        }
      ],
      "execution_count": 7
    },
    {
      "cell_type": "code",
      "source": "200 / 60",
      "metadata": {
        "trusted": true
      },
      "outputs": [
        {
          "execution_count": 8,
          "output_type": "execute_result",
          "data": {
            "text/plain": "3.3333333333333335"
          },
          "metadata": {}
        }
      ],
      "execution_count": 8
    },
    {
      "cell_type": "markdown",
      "source": "## Author\nAlice Foulkes\r\n\ne\r\n",
      "metadata": {}
    },
    {
      "cell_type": "code",
      "source": "",
      "metadata": {
        "trusted": true
      },
      "outputs": [],
      "execution_count": null
    }
  ]
}